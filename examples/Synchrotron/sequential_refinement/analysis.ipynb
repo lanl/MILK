{
 "cells": [
  {
   "attachments": {},
   "cell_type": "markdown",
   "metadata": {},
   "source": [
    "# Sequential tutorial using interactive Jupyter notebook\n",
    "This tutorial performs a similar analysis to that shown in the 1_build_database.py, 2_setup.py, and 3_analysis.py. The main difference is that some intuition is built as the code is pieced together and explained."
   ]
  },
  {
   "attachments": {},
   "cell_type": "markdown",
   "metadata": {},
   "source": [
    "## Build database\n",
    "Data setup can be done any number of ways. The 1_build_database.py uses the dataset.json to structure the input, but we can make a less modular version of the script by specifying the input."
   ]
  },
  {
   "cell_type": "code",
   "execution_count": 1,
   "metadata": {},
   "outputs": [
    {
     "name": "stdout",
     "output_type": "stream",
     "text": [
      "{'filename': 'dataset.csv', 'run_dirs': 'run(wild)', 'ifile': 'templates/template_4768.par', 'ofile': 'Initial.par', 'data_dir': 'data', 'ext': '.chi', 'args': None, 'data_fnames': ['PWDR_ff_004329_sum_norm_dc_0_tif_A352_fxye_Bank_1.chi', 'PWDR_ff_004331_sum_norm_dc_0_tif_A352_fxye_Bank_1.chi', 'PWDR_ff_004332_sum_norm_dc_0_tif_A352_fxye_Bank_1.chi', 'PWDR_ff_004333_sum_norm_dc_0_tif_A352_fxye_Bank_1.chi', 'PWDR_ff_004430_sum_norm_dc_0_tif_A352_fxye_Bank_1.chi', 'PWDR_ff_004431_sum_norm_dc_0_tif_A352_fxye_Bank_1.chi', 'PWDR_ff_004432_sum_norm_dc_0_tif_A352_fxye_Bank_1.chi', 'PWDR_ff_004433_sum_norm_dc_0_tif_A352_fxye_Bank_1.chi', 'PWDR_ff_004434_sum_norm_dc_0_tif_A352_fxye_Bank_1.chi', 'PWDR_ff_004445_sum_norm_dc_0_tif_A352_fxye_Bank_1.chi', 'PWDR_ff_004446_sum_norm_dc_0_tif_A352_fxye_Bank_1.chi', 'PWDR_ff_004447_sum_norm_dc_0_tif_A352_fxye_Bank_1.chi', 'PWDR_ff_004448_sum_norm_dc_0_tif_A352_fxye_Bank_1.chi', 'PWDR_ff_004449_sum_norm_dc_0_tif_A352_fxye_Bank_1.chi', 'PWDR_ff_004455_sum_norm_dc_0_tif_A352_fxye_Bank_1.chi', 'PWDR_ff_004456_sum_norm_dc_0_tif_A352_fxye_Bank_1.chi', 'PWDR_ff_004457_sum_norm_dc_0_tif_A352_fxye_Bank_1.chi', 'PWDR_ff_004458_sum_norm_dc_0_tif_A352_fxye_Bank_1.chi', 'PWDR_ff_004459_sum_norm_dc_0_tif_A352_fxye_Bank_1.chi', 'PWDR_ff_004560_sum_norm_dc_0_tif_A352_fxye_Bank_1.chi', 'PWDR_ff_004561_sum_norm_dc_0_tif_A352_fxye_Bank_1.chi', 'PWDR_ff_004562_sum_norm_dc_0_tif_A352_fxye_Bank_1.chi', 'PWDR_ff_004563_sum_norm_dc_0_tif_A352_fxye_Bank_1.chi', 'PWDR_ff_004564_sum_norm_dc_0_tif_A352_fxye_Bank_1.chi', 'PWDR_ff_004765_sum_norm_dc_0_tif_A352_fxye_Bank_1.chi', 'PWDR_ff_004766_sum_norm_dc_0_tif_A352_fxye_Bank_1.chi', 'PWDR_ff_004767_sum_norm_dc_0_tif_A352_fxye_Bank_1.chi', 'PWDR_ff_004768_sum_norm_dc_0_tif_A352_fxye_Bank_1.chi'], 'overwrite': False, 'zfill': 3, 'nruns': 28}\n"
     ]
    }
   ],
   "source": [
    "import MILK\n",
    "from pathlib import Path\n",
    "\n",
    "group = MILK.generateGroup.group()\n",
    "config = MILK.load_json('milk.json')\n",
    "group.parseConfig(config=config,\n",
    "                  dataset=None,\n",
    "                  data_fnames=sorted([file.name for file in Path('data').glob('*.chi')]),\n",
    "                  run_dirs='run(wild)',\n",
    "                  ifile='templates/template_4768.par', \n",
    "                  ofile='Initial.par', \n",
    "                  data_dir='data', \n",
    "                  ext='.chi')\n",
    "print(group.__dict__)\n"
   ]
  },
  {
   "attachments": {},
   "cell_type": "markdown",
   "metadata": {},
   "source": [
    "Next using the group class, we can build the folders and write a dataset.csv containing all the information needed for the prepareData method of the class."
   ]
  },
  {
   "cell_type": "code",
   "execution_count": 2,
   "metadata": {},
   "outputs": [
    {
     "data": {
      "text/html": [
       "<div>\n",
       "<style scoped>\n",
       "    .dataframe tbody tr th:only-of-type {\n",
       "        vertical-align: middle;\n",
       "    }\n",
       "\n",
       "    .dataframe tbody tr th {\n",
       "        vertical-align: top;\n",
       "    }\n",
       "\n",
       "    .dataframe thead th {\n",
       "        text-align: right;\n",
       "    }\n",
       "</style>\n",
       "<table border=\"1\" class=\"dataframe\">\n",
       "  <thead>\n",
       "    <tr style=\"text-align: right;\">\n",
       "      <th></th>\n",
       "      <th>run</th>\n",
       "      <th>data_dir</th>\n",
       "      <th>folder</th>\n",
       "      <th>ifile</th>\n",
       "      <th>ofile</th>\n",
       "      <th>data_files</th>\n",
       "    </tr>\n",
       "  </thead>\n",
       "  <tbody>\n",
       "    <tr>\n",
       "      <th>0</th>\n",
       "      <td>True</td>\n",
       "      <td>data</td>\n",
       "      <td>run000</td>\n",
       "      <td>templates/template_4768.par</td>\n",
       "      <td>Initial.par</td>\n",
       "      <td>PWDR_ff_004329_sum_norm_dc_0_tif_A352_fxye_Ban...</td>\n",
       "    </tr>\n",
       "    <tr>\n",
       "      <th>1</th>\n",
       "      <td>True</td>\n",
       "      <td>data</td>\n",
       "      <td>run001</td>\n",
       "      <td>templates/template_4768.par</td>\n",
       "      <td>Initial.par</td>\n",
       "      <td>PWDR_ff_004331_sum_norm_dc_0_tif_A352_fxye_Ban...</td>\n",
       "    </tr>\n",
       "    <tr>\n",
       "      <th>2</th>\n",
       "      <td>True</td>\n",
       "      <td>data</td>\n",
       "      <td>run002</td>\n",
       "      <td>templates/template_4768.par</td>\n",
       "      <td>Initial.par</td>\n",
       "      <td>PWDR_ff_004332_sum_norm_dc_0_tif_A352_fxye_Ban...</td>\n",
       "    </tr>\n",
       "    <tr>\n",
       "      <th>3</th>\n",
       "      <td>True</td>\n",
       "      <td>data</td>\n",
       "      <td>run003</td>\n",
       "      <td>templates/template_4768.par</td>\n",
       "      <td>Initial.par</td>\n",
       "      <td>PWDR_ff_004333_sum_norm_dc_0_tif_A352_fxye_Ban...</td>\n",
       "    </tr>\n",
       "    <tr>\n",
       "      <th>4</th>\n",
       "      <td>True</td>\n",
       "      <td>data</td>\n",
       "      <td>run004</td>\n",
       "      <td>templates/template_4768.par</td>\n",
       "      <td>Initial.par</td>\n",
       "      <td>PWDR_ff_004430_sum_norm_dc_0_tif_A352_fxye_Ban...</td>\n",
       "    </tr>\n",
       "  </tbody>\n",
       "</table>\n",
       "</div>"
      ],
      "text/plain": [
       "    run data_dir  folder                        ifile        ofile  \\\n",
       "0  True     data  run000  templates/template_4768.par  Initial.par   \n",
       "1  True     data  run001  templates/template_4768.par  Initial.par   \n",
       "2  True     data  run002  templates/template_4768.par  Initial.par   \n",
       "3  True     data  run003  templates/template_4768.par  Initial.par   \n",
       "4  True     data  run004  templates/template_4768.par  Initial.par   \n",
       "\n",
       "                                          data_files  \n",
       "0  PWDR_ff_004329_sum_norm_dc_0_tif_A352_fxye_Ban...  \n",
       "1  PWDR_ff_004331_sum_norm_dc_0_tif_A352_fxye_Ban...  \n",
       "2  PWDR_ff_004332_sum_norm_dc_0_tif_A352_fxye_Ban...  \n",
       "3  PWDR_ff_004333_sum_norm_dc_0_tif_A352_fxye_Ban...  \n",
       "4  PWDR_ff_004430_sum_norm_dc_0_tif_A352_fxye_Ban...  "
      ]
     },
     "execution_count": 2,
     "metadata": {},
     "output_type": "execute_result"
    }
   ],
   "source": [
    "group.buildDataset()\n",
    "group.overwrite=True\n",
    "group.writeDataset()\n",
    "\n",
    "import pandas as pd\n",
    "df = pd.read_csv(group.filename)\n",
    "df.head()"
   ]
  },
  {
   "attachments": {},
   "cell_type": "markdown",
   "metadata": {},
   "source": [
    "Any number of columns containing metadata for plotting or for initializing the analysis can be added programatically. In this case we can load the dataset.json and add columns for phase parameters."
   ]
  },
  {
   "cell_type": "code",
   "execution_count": 3,
   "metadata": {},
   "outputs": [
    {
     "data": {
      "text/plain": [
       "{'_cell_length_a': [2.9306538, 3.6026807, 3.233392],\n",
       " '_cell_length_c': [4.6817646, 3.6026807, 3.233392],\n",
       " '_riet_par_cryst_size': [1000.0, 1000.0, 1000.0],\n",
       " '_riet_par_rs_microstrain': [0.001, 0.001, 0.001],\n",
       " '_atom_site_B_iso_or_equiv': [0.06529825, 0.06529825, 0.06529825],\n",
       " '_pd_phase_atom_': [0.6, 0.2, 0.2]}"
      ]
     },
     "execution_count": 3,
     "metadata": {},
     "output_type": "execute_result"
    }
   ],
   "source": [
    "phase = {'_cell_length_a': [2.9306538, 3.6026807, 3.233392],\n",
    "        '_cell_length_c': [4.6817646, 3.6026807, 3.233392],\n",
    "        '_riet_par_cryst_size': [1000.0, 1000.0, 1000.0],\n",
    "        '_riet_par_rs_microstrain': [0.001, 0.001, 0.001],\n",
    "        '_atom_site_B_iso_or_equiv': [0.06529825, 0.06529825, 0.06529825],\n",
    "        '_pd_phase_atom_': [0.60,0.2,0.2]}\n",
    "phase"
   ]
  },
  {
   "cell_type": "code",
   "execution_count": 4,
   "metadata": {},
   "outputs": [
    {
     "data": {
      "text/html": [
       "<div>\n",
       "<style scoped>\n",
       "    .dataframe tbody tr th:only-of-type {\n",
       "        vertical-align: middle;\n",
       "    }\n",
       "\n",
       "    .dataframe tbody tr th {\n",
       "        vertical-align: top;\n",
       "    }\n",
       "\n",
       "    .dataframe thead th {\n",
       "        text-align: right;\n",
       "    }\n",
       "</style>\n",
       "<table border=\"1\" class=\"dataframe\">\n",
       "  <thead>\n",
       "    <tr style=\"text-align: right;\">\n",
       "      <th></th>\n",
       "      <th>run</th>\n",
       "      <th>data_dir</th>\n",
       "      <th>folder</th>\n",
       "      <th>ifile</th>\n",
       "      <th>ofile</th>\n",
       "      <th>data_files</th>\n",
       "      <th>_cell_length_a_0</th>\n",
       "      <th>_cell_length_a_1</th>\n",
       "      <th>_cell_length_a_2</th>\n",
       "      <th>_cell_length_c_0</th>\n",
       "      <th>...</th>\n",
       "      <th>_riet_par_cryst_size_2</th>\n",
       "      <th>_riet_par_rs_microstrain_0</th>\n",
       "      <th>_riet_par_rs_microstrain_1</th>\n",
       "      <th>_riet_par_rs_microstrain_2</th>\n",
       "      <th>_atom_site_B_iso_or_equiv_0</th>\n",
       "      <th>_atom_site_B_iso_or_equiv_1</th>\n",
       "      <th>_atom_site_B_iso_or_equiv_2</th>\n",
       "      <th>_pd_phase_atom__0</th>\n",
       "      <th>_pd_phase_atom__1</th>\n",
       "      <th>_pd_phase_atom__2</th>\n",
       "    </tr>\n",
       "  </thead>\n",
       "  <tbody>\n",
       "    <tr>\n",
       "      <th>0</th>\n",
       "      <td>True</td>\n",
       "      <td>data</td>\n",
       "      <td>run000</td>\n",
       "      <td>templates/template_4768.par</td>\n",
       "      <td>Initial.par</td>\n",
       "      <td>PWDR_ff_004329_sum_norm_dc_0_tif_A352_fxye_Ban...</td>\n",
       "      <td>2.930654</td>\n",
       "      <td>3.602681</td>\n",
       "      <td>3.233392</td>\n",
       "      <td>4.681765</td>\n",
       "      <td>...</td>\n",
       "      <td>1000.0</td>\n",
       "      <td>0.001</td>\n",
       "      <td>0.001</td>\n",
       "      <td>0.001</td>\n",
       "      <td>0.065298</td>\n",
       "      <td>0.065298</td>\n",
       "      <td>0.065298</td>\n",
       "      <td>0.6</td>\n",
       "      <td>0.2</td>\n",
       "      <td>0.2</td>\n",
       "    </tr>\n",
       "    <tr>\n",
       "      <th>1</th>\n",
       "      <td>True</td>\n",
       "      <td>data</td>\n",
       "      <td>run001</td>\n",
       "      <td>templates/template_4768.par</td>\n",
       "      <td>Initial.par</td>\n",
       "      <td>PWDR_ff_004331_sum_norm_dc_0_tif_A352_fxye_Ban...</td>\n",
       "      <td>2.930654</td>\n",
       "      <td>3.602681</td>\n",
       "      <td>3.233392</td>\n",
       "      <td>4.681765</td>\n",
       "      <td>...</td>\n",
       "      <td>1000.0</td>\n",
       "      <td>0.001</td>\n",
       "      <td>0.001</td>\n",
       "      <td>0.001</td>\n",
       "      <td>0.065298</td>\n",
       "      <td>0.065298</td>\n",
       "      <td>0.065298</td>\n",
       "      <td>0.6</td>\n",
       "      <td>0.2</td>\n",
       "      <td>0.2</td>\n",
       "    </tr>\n",
       "    <tr>\n",
       "      <th>2</th>\n",
       "      <td>True</td>\n",
       "      <td>data</td>\n",
       "      <td>run002</td>\n",
       "      <td>templates/template_4768.par</td>\n",
       "      <td>Initial.par</td>\n",
       "      <td>PWDR_ff_004332_sum_norm_dc_0_tif_A352_fxye_Ban...</td>\n",
       "      <td>2.930654</td>\n",
       "      <td>3.602681</td>\n",
       "      <td>3.233392</td>\n",
       "      <td>4.681765</td>\n",
       "      <td>...</td>\n",
       "      <td>1000.0</td>\n",
       "      <td>0.001</td>\n",
       "      <td>0.001</td>\n",
       "      <td>0.001</td>\n",
       "      <td>0.065298</td>\n",
       "      <td>0.065298</td>\n",
       "      <td>0.065298</td>\n",
       "      <td>0.6</td>\n",
       "      <td>0.2</td>\n",
       "      <td>0.2</td>\n",
       "    </tr>\n",
       "    <tr>\n",
       "      <th>3</th>\n",
       "      <td>True</td>\n",
       "      <td>data</td>\n",
       "      <td>run003</td>\n",
       "      <td>templates/template_4768.par</td>\n",
       "      <td>Initial.par</td>\n",
       "      <td>PWDR_ff_004333_sum_norm_dc_0_tif_A352_fxye_Ban...</td>\n",
       "      <td>2.930654</td>\n",
       "      <td>3.602681</td>\n",
       "      <td>3.233392</td>\n",
       "      <td>4.681765</td>\n",
       "      <td>...</td>\n",
       "      <td>1000.0</td>\n",
       "      <td>0.001</td>\n",
       "      <td>0.001</td>\n",
       "      <td>0.001</td>\n",
       "      <td>0.065298</td>\n",
       "      <td>0.065298</td>\n",
       "      <td>0.065298</td>\n",
       "      <td>0.6</td>\n",
       "      <td>0.2</td>\n",
       "      <td>0.2</td>\n",
       "    </tr>\n",
       "    <tr>\n",
       "      <th>4</th>\n",
       "      <td>True</td>\n",
       "      <td>data</td>\n",
       "      <td>run004</td>\n",
       "      <td>templates/template_4768.par</td>\n",
       "      <td>Initial.par</td>\n",
       "      <td>PWDR_ff_004430_sum_norm_dc_0_tif_A352_fxye_Ban...</td>\n",
       "      <td>2.930654</td>\n",
       "      <td>3.602681</td>\n",
       "      <td>3.233392</td>\n",
       "      <td>4.681765</td>\n",
       "      <td>...</td>\n",
       "      <td>1000.0</td>\n",
       "      <td>0.001</td>\n",
       "      <td>0.001</td>\n",
       "      <td>0.001</td>\n",
       "      <td>0.065298</td>\n",
       "      <td>0.065298</td>\n",
       "      <td>0.065298</td>\n",
       "      <td>0.6</td>\n",
       "      <td>0.2</td>\n",
       "      <td>0.2</td>\n",
       "    </tr>\n",
       "  </tbody>\n",
       "</table>\n",
       "<p>5 rows × 24 columns</p>\n",
       "</div>"
      ],
      "text/plain": [
       "    run data_dir  folder                        ifile        ofile  \\\n",
       "0  True     data  run000  templates/template_4768.par  Initial.par   \n",
       "1  True     data  run001  templates/template_4768.par  Initial.par   \n",
       "2  True     data  run002  templates/template_4768.par  Initial.par   \n",
       "3  True     data  run003  templates/template_4768.par  Initial.par   \n",
       "4  True     data  run004  templates/template_4768.par  Initial.par   \n",
       "\n",
       "                                          data_files  _cell_length_a_0  \\\n",
       "0  PWDR_ff_004329_sum_norm_dc_0_tif_A352_fxye_Ban...          2.930654   \n",
       "1  PWDR_ff_004331_sum_norm_dc_0_tif_A352_fxye_Ban...          2.930654   \n",
       "2  PWDR_ff_004332_sum_norm_dc_0_tif_A352_fxye_Ban...          2.930654   \n",
       "3  PWDR_ff_004333_sum_norm_dc_0_tif_A352_fxye_Ban...          2.930654   \n",
       "4  PWDR_ff_004430_sum_norm_dc_0_tif_A352_fxye_Ban...          2.930654   \n",
       "\n",
       "   _cell_length_a_1  _cell_length_a_2  _cell_length_c_0  ...  \\\n",
       "0          3.602681          3.233392          4.681765  ...   \n",
       "1          3.602681          3.233392          4.681765  ...   \n",
       "2          3.602681          3.233392          4.681765  ...   \n",
       "3          3.602681          3.233392          4.681765  ...   \n",
       "4          3.602681          3.233392          4.681765  ...   \n",
       "\n",
       "   _riet_par_cryst_size_2  _riet_par_rs_microstrain_0  \\\n",
       "0                  1000.0                       0.001   \n",
       "1                  1000.0                       0.001   \n",
       "2                  1000.0                       0.001   \n",
       "3                  1000.0                       0.001   \n",
       "4                  1000.0                       0.001   \n",
       "\n",
       "   _riet_par_rs_microstrain_1  _riet_par_rs_microstrain_2  \\\n",
       "0                       0.001                       0.001   \n",
       "1                       0.001                       0.001   \n",
       "2                       0.001                       0.001   \n",
       "3                       0.001                       0.001   \n",
       "4                       0.001                       0.001   \n",
       "\n",
       "   _atom_site_B_iso_or_equiv_0  _atom_site_B_iso_or_equiv_1  \\\n",
       "0                     0.065298                     0.065298   \n",
       "1                     0.065298                     0.065298   \n",
       "2                     0.065298                     0.065298   \n",
       "3                     0.065298                     0.065298   \n",
       "4                     0.065298                     0.065298   \n",
       "\n",
       "   _atom_site_B_iso_or_equiv_2  _pd_phase_atom__0  _pd_phase_atom__1  \\\n",
       "0                     0.065298                0.6                0.2   \n",
       "1                     0.065298                0.6                0.2   \n",
       "2                     0.065298                0.6                0.2   \n",
       "3                     0.065298                0.6                0.2   \n",
       "4                     0.065298                0.6                0.2   \n",
       "\n",
       "   _pd_phase_atom__2  \n",
       "0                0.2  \n",
       "1                0.2  \n",
       "2                0.2  \n",
       "3                0.2  \n",
       "4                0.2  \n",
       "\n",
       "[5 rows x 24 columns]"
      ]
     },
     "execution_count": 4,
     "metadata": {},
     "output_type": "execute_result"
    }
   ],
   "source": [
    "def add_phase_par(df, key:str, val: list[float]):\n",
    "    \"\"\"Add phase parameters as columns in dataset.csv\"\"\"\n",
    "    for ind,v in enumerate(val):\n",
    "        df[f\"{key}_{ind}\"] = v\n",
    "\n",
    "for key,val in phase.items():\n",
    "    add_phase_par(df, key, val)\n",
    "\n",
    "df.head()"
   ]
  },
  {
   "cell_type": "code",
   "execution_count": 5,
   "metadata": {},
   "outputs": [],
   "source": [
    "# Export to csv file and run import\n",
    "df.to_csv(group.filename)\n",
    "group.prepareData(keep_intensity=False)"
   ]
  },
  {
   "attachments": {},
   "cell_type": "markdown",
   "metadata": {},
   "source": [
    "# Setup the par files \n",
    "To setup the Initial.par files with information from the dataset.csv and load the phases specified in the milk.json, we need to call MAUD once to load the phases and then we can add the phase information.\n"
   ]
  },
  {
   "cell_type": "code",
   "execution_count": 6,
   "metadata": {},
   "outputs": [],
   "source": [
    "#reload csv and config incase they were changed\n",
    "config = MILK.load_json('milk.json')\n",
    "\n",
    "#Initialize maudText and the editor class\n",
    "editor = MILK.parameterEditor.editor()\n",
    "editor.parseConfig(config)\n",
    "maudText = MILK.maud.maudText()\n",
    "maudText.parseConfig(config)"
   ]
  },
  {
   "attachments": {},
   "cell_type": "markdown",
   "metadata": {},
   "source": [
    "We want to load the relevant information from the dataset.csv and use that to initialize some of the analysis. First we will setup the folders to run from the run logical in dataset.csv and overwrite any options from the milk.json."
   ]
  },
  {
   "cell_type": "code",
   "execution_count": 7,
   "metadata": {},
   "outputs": [
    {
     "data": {
      "text/plain": [
       "'wild:[0, 1, 2, 3, 4, 5, 6, 7, 8, 9, 10, 11, 12, 13, 14, 15, 16, 17, 18, 19, 20, 21, 22, 23, 24, 25, 26, 27] and wild_range:[[]]'"
      ]
     },
     "execution_count": 7,
     "metadata": {},
     "output_type": "execute_result"
    }
   ],
   "source": [
    "df = pd.read_csv(group.filename)\n",
    "dataset = df.to_dict(orient='list')\n",
    "\n",
    "def set_dataset_wild(run, editor, maudText):\n",
    "    \"\"\"From logical run array build wild.\"\"\"\n",
    "    wild = [i for i, x in enumerate(run) if x]\n",
    "    editor.wild = wild\n",
    "    maudText.wild = wild\n",
    "\n",
    "set_dataset_wild(dataset[\"run\"], editor, maudText)\n",
    "\n",
    "f\"wild:{editor.wild} and wild_range:{editor.wild_range}\""
   ]
  },
  {
   "attachments": {},
   "cell_type": "markdown",
   "metadata": {},
   "source": [
    "Next we will initialize just the microstrain, crystallite, Biso, and phase fraction from the dataset.csv. If the phases are not already in the template then we would need to load the phases with a call to maudText.refinement(...,import_phase=True,...)"
   ]
  },
  {
   "cell_type": "code",
   "execution_count": 8,
   "metadata": {},
   "outputs": [],
   "source": [
    "import copy\n",
    "def set_dataset_starting_values(editor, dataset, phase_keys) -> str:\n",
    "    \"\"\"Apply the dataset phase initialization from.\"\"\"\n",
    "    # Deep copy the editor object so no changes to editor leave this function  \n",
    "    editor = copy.deepcopy(editor)\n",
    "    ifile = editor.ifile\n",
    "    ofile = editor.ofile\n",
    "    work_dir = editor.work_dir\n",
    "    editor.work_dir = ''\n",
    "    for datasetid, folder in enumerate(dataset[\"folder\"]):\n",
    "        file_path = Path(work_dir) / folder\n",
    "        editor.ifile = str(file_path / ifile)\n",
    "        editor.ofile = str(file_path / ofile)\n",
    "        editor.read_par()\n",
    "        editor.get_phases(use_stored_par=True)\n",
    "        phase_names = editor.value\n",
    "        for key in phase_keys:\n",
    "            for phaseid, phase_name in enumerate(phase_names):\n",
    "                value = dataset[f\"{key}_{phaseid}\"][datasetid]\n",
    "                if \"_pd_phase_atom_\" in key:\n",
    "                    editor.set_val(\n",
    "                        key=f\"{key}\", value=f\"{value}\", loopid=f\"{phaseid}\", use_stored_par=True)\n",
    "                else:\n",
    "                    editor.set_val(\n",
    "                        key=f\"{key}\", value=f\"{value}\", sobj=phase_name, use_stored_par=True)\n",
    "        editor.write_par()\n",
    "\n",
    "    return ofile\n",
    "\n",
    "phase_keys = ['_riet_par_cryst_size','_riet_par_rs_microstrain','_atom_site_B_iso_or_equiv','_pd_phase_atom_']\n",
    "editor.ifile = set_dataset_starting_values(editor,dataset,phase_keys)"
   ]
  },
  {
   "attachments": {},
   "cell_type": "markdown",
   "metadata": {},
   "source": [
    "With the values initilized we are at a good point to run a Rietveld refinement with background and intensity scaling. For single histogram refinements, only the phase fractions and not the intensity should be freed. If both are free, the uncertainties will not be appropriately calculated."
   ]
  },
  {
   "cell_type": "code",
   "execution_count": 9,
   "metadata": {},
   "outputs": [
    {
     "name": "stdout",
     "output_type": "stream",
     "text": [
      "\n",
      "Starting MAUD refinement for step: 1, at: 15:07:19, July 24\n",
      "=========================\n"
     ]
    },
    {
     "name": "stderr",
     "output_type": "stream",
     "text": [
      "100%|██████████| 28/28 [00:42<00:00,  1.53s/it]\n"
     ]
    },
    {
     "name": "stdout",
     "output_type": "stream",
     "text": [
      "\n",
      "Archiving step data\n",
      "+------------------------+------------+--+\n",
      "|         Title          |   Rwp(%)   |  |\n",
      "+------------------------+------------+--+\n",
      "| run000Ti64_test_data01 | 23.282232  |  |\n",
      "| run001Ti64_test_data01 | 23.522932  |  |\n",
      "| run002Ti64_test_data01 | 23.321486  |  |\n",
      "| run003Ti64_test_data01 | 23.371307  |  |\n",
      "| run004Ti64_test_data01 | 110.07298  |  |\n",
      "| run005Ti64_test_data01 | 107.92714  |  |\n",
      "| run006Ti64_test_data01 | 110.62028  |  |\n",
      "| run007Ti64_test_data01 | 110.42464  |  |\n",
      "| run008Ti64_test_data01 | 108.72298  |  |\n",
      "| run009Ti64_test_data01 | 136.76323  |  |\n",
      "| run010Ti64_test_data01 | 137.82596  |  |\n",
      "| run011Ti64_test_data01 | 139.29968  |  |\n",
      "| run012Ti64_test_data01 | 142.87723  |  |\n",
      "| run013Ti64_test_data01 | 145.94823  |  |\n",
      "| run014Ti64_test_data01 | 146.39351  |  |\n",
      "| run015Ti64_test_data01 | 144.46104  |  |\n",
      "| run016Ti64_test_data01 | 145.35194  |  |\n",
      "| run017Ti64_test_data01 |  144.9489  |  |\n",
      "| run018Ti64_test_data01 | 147.21844  |  |\n",
      "| run019Ti64_test_data01 | 101.75554  |  |\n",
      "| run020Ti64_test_data01 | 100.962006 |  |\n",
      "| run021Ti64_test_data01 | 101.290794 |  |\n",
      "| run022Ti64_test_data01 | 100.71647  |  |\n",
      "| run023Ti64_test_data01 | 102.46571  |  |\n",
      "| run024Ti64_test_data01 | 13.653788  |  |\n",
      "| run025Ti64_test_data01 | 13.4745655 |  |\n",
      "| run026Ti64_test_data01 | 13.208394  |  |\n",
      "| run027Ti64_test_data01 | 13.449663  |  |\n",
      "+------------------------+------------+--+\n",
      "+------------------------+------------+------------+---------+----------+-----------+----------+--------------------+--------------------+----------------+-------------+------------+---------+----------+-----------+----------+--------------------+----------------+-------------+------------+---------+----------+----------+----------+--------------------+----------------+-------------+--+\n",
      "|         Title          |   Rwp(%)   | Phase_Name | Vol.(%) | error(%) |   Wt.(%)  | error(%) | Cell_Par(Angstrom) | Cell_Par(Angstrom) | Size(Angstrom) | Microstrain | Phase_Name | Vol.(%) | error(%) |   Wt.(%)  | error(%) | Cell_Par(Angstrom) | Size(Angstrom) | Microstrain | Phase_Name | Vol.(%) | error(%) |  Wt.(%)  | error(%) | Cell_Par(Angstrom) | Size(Angstrom) | Microstrain |  |\n",
      "+------------------------+------------+------------+---------+----------+-----------+----------+--------------------+--------------------+----------------+-------------+------------+---------+----------+-----------+----------+--------------------+----------------+-------------+------------+---------+----------+----------+----------+--------------------+----------------+-------------+--+\n",
      "| run000Ti64_test_data01 | 23.282232  |   alpha    |   60.0  |   0.0    | 60.828247 |   0.0    |     2.9275224      |     4.6769123      |     1000.0     |    0.001    |   steel    |   20.0  |   0.0    | 30.755564 |   0.0    |      3.599109      |     1000.0     |    0.001    |    beta    |   20.0  |   0.0    | 8.416188 |   0.0    |     3.2300444      |     1000.0     |    0.001    |  |\n",
      "| run001Ti64_test_data01 | 23.522932  |   alpha    |   60.0  |   0.0    | 60.828247 |   0.0    |     2.9275224      |     4.6769123      |     1000.0     |    0.001    |   steel    |   20.0  |   0.0    | 30.755564 |   0.0    |      3.599109      |     1000.0     |    0.001    |    beta    |   20.0  |   0.0    | 8.416188 |   0.0    |     3.2300444      |     1000.0     |    0.001    |  |\n",
      "| run002Ti64_test_data01 | 23.321486  |   alpha    |   60.0  |   0.0    | 60.828247 |   0.0    |     2.9275224      |     4.6769123      |     1000.0     |    0.001    |   steel    |   20.0  |   0.0    | 30.755564 |   0.0    |      3.599109      |     1000.0     |    0.001    |    beta    |   20.0  |   0.0    | 8.416188 |   0.0    |     3.2300444      |     1000.0     |    0.001    |  |\n",
      "| run003Ti64_test_data01 | 23.371307  |   alpha    |   60.0  |   0.0    | 60.828247 |   0.0    |     2.9275224      |     4.6769123      |     1000.0     |    0.001    |   steel    |   20.0  |   0.0    | 30.755564 |   0.0    |      3.599109      |     1000.0     |    0.001    |    beta    |   20.0  |   0.0    | 8.416188 |   0.0    |     3.2300444      |     1000.0     |    0.001    |  |\n",
      "| run004Ti64_test_data01 | 110.07298  |   alpha    |   60.0  |   0.0    | 60.828247 |   0.0    |     2.9275224      |     4.6769123      |     1000.0     |    0.001    |   steel    |   20.0  |   0.0    | 30.755564 |   0.0    |      3.599109      |     1000.0     |    0.001    |    beta    |   20.0  |   0.0    | 8.416188 |   0.0    |     3.2300444      |     1000.0     |    0.001    |  |\n",
      "| run005Ti64_test_data01 | 107.92714  |   alpha    |   60.0  |   0.0    | 60.828247 |   0.0    |     2.9275224      |     4.6769123      |     1000.0     |    0.001    |   steel    |   20.0  |   0.0    | 30.755564 |   0.0    |      3.599109      |     1000.0     |    0.001    |    beta    |   20.0  |   0.0    | 8.416188 |   0.0    |     3.2300444      |     1000.0     |    0.001    |  |\n",
      "| run006Ti64_test_data01 | 110.62028  |   alpha    |   60.0  |   0.0    | 60.828247 |   0.0    |     2.9275224      |     4.6769123      |     1000.0     |    0.001    |   steel    |   20.0  |   0.0    | 30.755564 |   0.0    |      3.599109      |     1000.0     |    0.001    |    beta    |   20.0  |   0.0    | 8.416188 |   0.0    |     3.2300444      |     1000.0     |    0.001    |  |\n",
      "| run007Ti64_test_data01 | 110.42464  |   alpha    |   60.0  |   0.0    | 60.828247 |   0.0    |     2.9275224      |     4.6769123      |     1000.0     |    0.001    |   steel    |   20.0  |   0.0    | 30.755564 |   0.0    |      3.599109      |     1000.0     |    0.001    |    beta    |   20.0  |   0.0    | 8.416188 |   0.0    |     3.2300444      |     1000.0     |    0.001    |  |\n",
      "| run008Ti64_test_data01 | 108.72298  |   alpha    |   60.0  |   0.0    | 60.828247 |   0.0    |     2.9275224      |     4.6769123      |     1000.0     |    0.001    |   steel    |   20.0  |   0.0    | 30.755564 |   0.0    |      3.599109      |     1000.0     |    0.001    |    beta    |   20.0  |   0.0    | 8.416188 |   0.0    |     3.2300444      |     1000.0     |    0.001    |  |\n",
      "| run009Ti64_test_data01 | 136.76323  |   alpha    |   60.0  |   0.0    | 60.828247 |   0.0    |     2.9275224      |     4.6769123      |     1000.0     |    0.001    |   steel    |   20.0  |   0.0    | 30.755564 |   0.0    |      3.599109      |     1000.0     |    0.001    |    beta    |   20.0  |   0.0    | 8.416188 |   0.0    |     3.2300444      |     1000.0     |    0.001    |  |\n",
      "| run010Ti64_test_data01 | 137.82596  |   alpha    |   60.0  |   0.0    | 60.828247 |   0.0    |     2.9275224      |     4.6769123      |     1000.0     |    0.001    |   steel    |   20.0  |   0.0    | 30.755564 |   0.0    |      3.599109      |     1000.0     |    0.001    |    beta    |   20.0  |   0.0    | 8.416188 |   0.0    |     3.2300444      |     1000.0     |    0.001    |  |\n",
      "| run011Ti64_test_data01 | 139.29968  |   alpha    |   60.0  |   0.0    | 60.828247 |   0.0    |     2.9275224      |     4.6769123      |     1000.0     |    0.001    |   steel    |   20.0  |   0.0    | 30.755564 |   0.0    |      3.599109      |     1000.0     |    0.001    |    beta    |   20.0  |   0.0    | 8.416188 |   0.0    |     3.2300444      |     1000.0     |    0.001    |  |\n",
      "| run012Ti64_test_data01 | 142.87723  |   alpha    |   60.0  |   0.0    | 60.828247 |   0.0    |     2.9275224      |     4.6769123      |     1000.0     |    0.001    |   steel    |   20.0  |   0.0    | 30.755564 |   0.0    |      3.599109      |     1000.0     |    0.001    |    beta    |   20.0  |   0.0    | 8.416188 |   0.0    |     3.2300444      |     1000.0     |    0.001    |  |\n",
      "| run013Ti64_test_data01 | 145.94823  |   alpha    |   60.0  |   0.0    | 60.828247 |   0.0    |     2.9275224      |     4.6769123      |     1000.0     |    0.001    |   steel    |   20.0  |   0.0    | 30.755564 |   0.0    |      3.599109      |     1000.0     |    0.001    |    beta    |   20.0  |   0.0    | 8.416188 |   0.0    |     3.2300444      |     1000.0     |    0.001    |  |\n",
      "| run014Ti64_test_data01 | 146.39351  |   alpha    |   60.0  |   0.0    | 60.828247 |   0.0    |     2.9275224      |     4.6769123      |     1000.0     |    0.001    |   steel    |   20.0  |   0.0    | 30.755564 |   0.0    |      3.599109      |     1000.0     |    0.001    |    beta    |   20.0  |   0.0    | 8.416188 |   0.0    |     3.2300444      |     1000.0     |    0.001    |  |\n",
      "| run015Ti64_test_data01 | 144.46104  |   alpha    |   60.0  |   0.0    | 60.828247 |   0.0    |     2.9275224      |     4.6769123      |     1000.0     |    0.001    |   steel    |   20.0  |   0.0    | 30.755564 |   0.0    |      3.599109      |     1000.0     |    0.001    |    beta    |   20.0  |   0.0    | 8.416188 |   0.0    |     3.2300444      |     1000.0     |    0.001    |  |\n",
      "| run016Ti64_test_data01 | 145.35194  |   alpha    |   60.0  |   0.0    | 60.828247 |   0.0    |     2.9275224      |     4.6769123      |     1000.0     |    0.001    |   steel    |   20.0  |   0.0    | 30.755564 |   0.0    |      3.599109      |     1000.0     |    0.001    |    beta    |   20.0  |   0.0    | 8.416188 |   0.0    |     3.2300444      |     1000.0     |    0.001    |  |\n",
      "| run017Ti64_test_data01 |  144.9489  |   alpha    |   60.0  |   0.0    | 60.828247 |   0.0    |     2.9275224      |     4.6769123      |     1000.0     |    0.001    |   steel    |   20.0  |   0.0    | 30.755564 |   0.0    |      3.599109      |     1000.0     |    0.001    |    beta    |   20.0  |   0.0    | 8.416188 |   0.0    |     3.2300444      |     1000.0     |    0.001    |  |\n",
      "| run018Ti64_test_data01 | 147.21844  |   alpha    |   60.0  |   0.0    | 60.828247 |   0.0    |     2.9275224      |     4.6769123      |     1000.0     |    0.001    |   steel    |   20.0  |   0.0    | 30.755564 |   0.0    |      3.599109      |     1000.0     |    0.001    |    beta    |   20.0  |   0.0    | 8.416188 |   0.0    |     3.2300444      |     1000.0     |    0.001    |  |\n",
      "| run019Ti64_test_data01 | 101.75554  |   alpha    |   60.0  |   0.0    | 60.828247 |   0.0    |     2.9275224      |     4.6769123      |     1000.0     |    0.001    |   steel    |   20.0  |   0.0    | 30.755564 |   0.0    |      3.599109      |     1000.0     |    0.001    |    beta    |   20.0  |   0.0    | 8.416188 |   0.0    |     3.2300444      |     1000.0     |    0.001    |  |\n",
      "| run020Ti64_test_data01 | 100.962006 |   alpha    |   60.0  |   0.0    | 60.828247 |   0.0    |     2.9275224      |     4.6769123      |     1000.0     |    0.001    |   steel    |   20.0  |   0.0    | 30.755564 |   0.0    |      3.599109      |     1000.0     |    0.001    |    beta    |   20.0  |   0.0    | 8.416188 |   0.0    |     3.2300444      |     1000.0     |    0.001    |  |\n",
      "| run021Ti64_test_data01 | 101.290794 |   alpha    |   60.0  |   0.0    | 60.828247 |   0.0    |     2.9275224      |     4.6769123      |     1000.0     |    0.001    |   steel    |   20.0  |   0.0    | 30.755564 |   0.0    |      3.599109      |     1000.0     |    0.001    |    beta    |   20.0  |   0.0    | 8.416188 |   0.0    |     3.2300444      |     1000.0     |    0.001    |  |\n",
      "| run022Ti64_test_data01 | 100.71647  |   alpha    |   60.0  |   0.0    | 60.828247 |   0.0    |     2.9275224      |     4.6769123      |     1000.0     |    0.001    |   steel    |   20.0  |   0.0    | 30.755564 |   0.0    |      3.599109      |     1000.0     |    0.001    |    beta    |   20.0  |   0.0    | 8.416188 |   0.0    |     3.2300444      |     1000.0     |    0.001    |  |\n",
      "| run023Ti64_test_data01 | 102.46571  |   alpha    |   60.0  |   0.0    | 60.828247 |   0.0    |     2.9275224      |     4.6769123      |     1000.0     |    0.001    |   steel    |   20.0  |   0.0    | 30.755564 |   0.0    |      3.599109      |     1000.0     |    0.001    |    beta    |   20.0  |   0.0    | 8.416188 |   0.0    |     3.2300444      |     1000.0     |    0.001    |  |\n",
      "| run024Ti64_test_data01 | 13.653788  |   alpha    |   60.0  |   0.0    | 60.828247 |   0.0    |     2.9275224      |     4.6769123      |     1000.0     |    0.001    |   steel    |   20.0  |   0.0    | 30.755564 |   0.0    |      3.599109      |     1000.0     |    0.001    |    beta    |   20.0  |   0.0    | 8.416188 |   0.0    |     3.2300444      |     1000.0     |    0.001    |  |\n",
      "| run025Ti64_test_data01 | 13.4745655 |   alpha    |   60.0  |   0.0    | 60.828247 |   0.0    |     2.9275224      |     4.6769123      |     1000.0     |    0.001    |   steel    |   20.0  |   0.0    | 30.755564 |   0.0    |      3.599109      |     1000.0     |    0.001    |    beta    |   20.0  |   0.0    | 8.416188 |   0.0    |     3.2300444      |     1000.0     |    0.001    |  |\n",
      "| run026Ti64_test_data01 | 13.208394  |   alpha    |   60.0  |   0.0    | 60.828247 |   0.0    |     2.9275224      |     4.6769123      |     1000.0     |    0.001    |   steel    |   20.0  |   0.0    | 30.755564 |   0.0    |      3.599109      |     1000.0     |    0.001    |    beta    |   20.0  |   0.0    | 8.416188 |   0.0    |     3.2300444      |     1000.0     |    0.001    |  |\n",
      "| run027Ti64_test_data01 | 13.449663  |   alpha    |   60.0  |   0.0    | 60.828247 |   0.0    |     2.9275224      |     4.6769123      |     1000.0     |    0.001    |   steel    |   20.0  |   0.0    | 30.755564 |   0.0    |      3.599109      |     1000.0     |    0.001    |    beta    |   20.0  |   0.0    | 8.416188 |   0.0    |     3.2300444      |     1000.0     |    0.001    |  |\n",
      "+------------------------+------------+------------+---------+----------+-----------+----------+--------------------+--------------------+----------------+-------------+------------+---------+----------+-----------+----------+--------------------+----------------+-------------+------------+---------+----------+----------+----------+--------------------+----------------+-------------+--+\n"
     ]
    }
   ],
   "source": [
    "editor.fix_all()\n",
    "editor.free(key='Background')\n",
    "maudText.refinement(itr='3', export_plots=True, ifile=editor.ifile, ofile='After_setup.par')"
   ]
  },
  {
   "attachments": {},
   "cell_type": "markdown",
   "metadata": {},
   "source": [
    "At any point we can build the cinema database and visualize. When the CINEMA instance is launched via MILK.cinema.main() in a Notebook, the notebook environment crashes. Use the commandline instead and type milk-cinema -loca Since this is a notebook we can also do some visualization in the notebook."
   ]
  },
  {
   "cell_type": "code",
   "execution_count": 10,
   "metadata": {},
   "outputs": [],
   "source": [
    "import build_cinema_database\n",
    "build_cinema_database.main()\n",
    "# MILK.cinema.main()"
   ]
  },
  {
   "cell_type": "code",
   "execution_count": 11,
   "metadata": {},
   "outputs": [
    {
     "data": {
      "text/plain": [
       "(-0.5, 599.5, 371.5, -0.5)"
      ]
     },
     "execution_count": 11,
     "metadata": {},
     "output_type": "execute_result"
    },
    {
     "data": {
      "image/png": "[encoded data removed]",
      "text/plain": [
       "<Figure size 640x480 with 1 Axes>"
      ]
     },
     "metadata": {},
     "output_type": "display_data"
    }
   ],
   "source": [
    "import matplotlib.pyplot as plt\n",
    "from PIL import Image\n",
    "\n",
    "im = Image.open('run026/step_1/plot1d_detector1.png')\n",
    "plt.imshow(im)\n",
    "plt.axis('off')"
   ]
  },
  {
   "attachments": {},
   "cell_type": "markdown",
   "metadata": {},
   "source": [
    "We can animate the plot using ipywidgets as well."
   ]
  },
  {
   "cell_type": "code",
   "execution_count": 12,
   "metadata": {},
   "outputs": [
    {
     "data": {
      "application/vnd.jupyter.widget-view+json": {
       "model_id": "3b64fb6656f74457a889390c3767c50b",
       "version_major": 2,
       "version_minor": 0
      },
      "text/plain": [
       "interactive(children=(IntSlider(value=0, description='wild', max=27), IntSlider(value=1, description='step', m…"
      ]
     },
     "metadata": {},
     "output_type": "display_data"
    }
   ],
   "source": [
    "from ipywidgets import interact\n",
    "import ipywidgets as widgets\n",
    "import matplotlib.pyplot as plt\n",
    "\n",
    "def plot(wild,step):\n",
    "    im = Image.open(f'run{wild:03d}/step_{step:d}/plot1d_detector1.png')\n",
    "    plt.imshow(im);plt.axis('off')\n",
    "\n",
    "wig_plot = interact(plot, wild = widgets.IntSlider(value=0, min=0, max=27, step=1), step = widgets.IntSlider(value=1, min=1, max=int(maudText.cur_step)-1, step=1))"
   ]
  },
  {
   "attachments": {},
   "cell_type": "markdown",
   "metadata": {},
   "source": [
    "# Sequential refinements\n",
    "The main parameter we want to be sequentially solved for are the lattice parameters. Our template file has good lattice parameters already for run027, which is after a heating cycle near room temp when we have alpha, beta, and steel phases present. We'll setup a reverse sequential analysis. Using the widget above we can identify regions of no beta, no alpha and a mixture of alpha and beta. In MAUD if a volume fraction is set to zero it will be excluded from the refinement completely"
   ]
  },
  {
   "cell_type": "code",
   "execution_count": 13,
   "metadata": {},
   "outputs": [],
   "source": [
    "editor.ifile = 'After_setup.par'\n",
    "p = {'alpha': '0', 'steel':'1', 'beta':'2'}\n",
    "\n",
    "no_beta = list(range(0, 4))\n",
    "for wild in no_beta:\n",
    "    # editor.set_val(key='_pd_phase_atom_', loopid=p['alpha'],\n",
    "    #                 value='0.5', wild=[wild])\n",
    "    # editor.set_val(key='_pd_phase_atom_', loopid=p['steel'],\n",
    "    #                 value='0.5', wild=[wild])\n",
    "    editor.set_val(key='_pd_phase_atom_', loopid=p['beta'],\n",
    "                    value='0.0', wild=[wild])\n",
    "\n",
    "no_alpha = list(range(9, 19))\n",
    "for wild in no_alpha:\n",
    "    editor.set_val(key='_pd_phase_atom_', loopid=p['alpha'],\n",
    "                    value='0.0', wild=[wild])\n",
    "    # editor.set_val(key='_pd_phase_atom_', loopid=p['steel'],\n",
    "    #                 value='0.5', wild=[wild])\n",
    "    # editor.set_val(key='_pd_phase_atom_', loopid=p['beta'],\n",
    "    #                 value='0.5', wild=[wild])\n"
   ]
  },
  {
   "attachments": {},
   "cell_type": "markdown",
   "metadata": {},
   "source": [
    "We also need to increase the number of background parameters to deal with the high temp background."
   ]
  },
  {
   "cell_type": "code",
   "execution_count": 14,
   "metadata": {},
   "outputs": [],
   "source": [
    "# Add shared background and free \n",
    "#===================================================#\n",
    "set_dataset_wild(dataset[\"run\"], editor, maudText)\n",
    "# for _ in range(0, 4):\n",
    "#     editor.add_loop_par(key='_riet_par_background_pol',\n",
    "#                         nsobj='chi(')  # Add shared background only\n",
    "# editor.free(key='Background')\n"
   ]
  },
  {
   "attachments": {},
   "cell_type": "markdown",
   "metadata": {},
   "source": [
    "The sequential fit can now be done. We don't need a complete refinement for each case, just enough for the lattice parameters to evolve appropriately. Then we can do the final refinements in parallel."
   ]
  },
  {
   "cell_type": "code",
   "execution_count": 15,
   "metadata": {},
   "outputs": [
    {
     "name": "stderr",
     "output_type": "stream",
     "text": [
      "100%|██████████| 28/28 [02:45<00:00,  5.90s/it]\n"
     ]
    }
   ],
   "source": [
    "from tqdm import tqdm\n",
    "#Starting at the last wild\n",
    "wild_prev = editor.wild[-1]\n",
    "for wild in tqdm(reversed(editor.wild), total=len(editor.wild)):\n",
    "    # Copy lattice parameters from previous\n",
    "    editor.get_val(key='cell_length_a', wild=[wild_prev])\n",
    "    a = editor.value\n",
    "    editor.get_val(key='cell_length_c', wild=[wild_prev])\n",
    "    c = editor.value\n",
    "    editor.set_val(key='cell_length_a', value=a[int(p['alpha'])], sobj='alpha', wild=[wild])\n",
    "    editor.set_val(key='cell_length_c', value=c[int(p['alpha'])], sobj='alpha')\n",
    "    editor.set_val(key='cell_length', value=a[int(p['steel'])], sobj='steel')\n",
    "    editor.set_val(key='cell_length', value=a[int(p['beta'])], sobj='beta')\n",
    "\n",
    "    # Free phase fractions and refine\n",
    "    editor.free(key='_pd_phase_atom_', wild=[wild])\n",
    "    if wild in no_alpha:\n",
    "        editor.fix(key='_pd_phase_atom_', loopid=p['alpha'])\n",
    "    elif wild in no_beta:\n",
    "        editor.fix(key='_pd_phase_atom_', loopid=p['beta'])\n",
    "\n",
    "    maudText.wild = [wild]\n",
    "    maudText.refinement(itr='4', ifile=editor.ifile,\n",
    "                        inc_step=False, simple_call=True)\n",
    "\n",
    "    # Conditionally free lattice parameters and refine\n",
    "    if wild not in no_alpha:\n",
    "        editor.free(key='cell_length_a', sobj='alpha')\n",
    "        editor.free(key='cell_length_c', sobj='alpha')\n",
    "\n",
    "    editor.free(key='cell_length_a', sobj='steel')\n",
    "\n",
    "    if wild not in no_beta:\n",
    "        editor.free(key='cell_length_a', sobj='beta')\n",
    "    \n",
    "    maudText.refinement(itr='6', ifile=editor.ifile, ofile='After_seq1.par',\n",
    "                        inc_step=False, simple_call=True)\n",
    "    \n",
    "    #Set previous to current wild for sequential copy\n",
    "    wild_prev = wild"
   ]
  },
  {
   "cell_type": "code",
   "execution_count": 16,
   "metadata": {},
   "outputs": [
    {
     "name": "stdout",
     "output_type": "stream",
     "text": [
      "\n",
      "Starting MAUD refinement for step: 2, at: 15:10:48, July 24\n",
      "=========================\n"
     ]
    },
    {
     "name": "stderr",
     "output_type": "stream",
     "text": [
      "100%|██████████| 28/28 [00:44<00:00,  1.59s/it]"
     ]
    },
    {
     "name": "stdout",
     "output_type": "stream",
     "text": [
      "\n",
      "Archiving step data\n",
      "+------------------------+-----------+--+\n",
      "|         Title          |   Rwp(%)  |  |\n",
      "+------------------------+-----------+--+\n",
      "| run000Ti64_test_data02 | 13.862096 |  |\n",
      "| run001Ti64_test_data02 | 13.958685 |  |\n",
      "| run002Ti64_test_data02 | 14.021036 |  |\n",
      "| run003Ti64_test_data02 | 13.984479 |  |\n",
      "| run004Ti64_test_data02 | 13.245336 |  |\n",
      "| run005Ti64_test_data02 | 13.326239 |  |\n",
      "| run006Ti64_test_data02 | 13.090711 |  |\n",
      "| run007Ti64_test_data02 | 12.905153 |  |\n",
      "| run008Ti64_test_data02 | 12.797298 |  |\n",
      "| run009Ti64_test_data02 | 16.358847 |  |\n",
      "| run010Ti64_test_data02 | 15.873763 |  |\n",
      "| run011Ti64_test_data02 | 14.206492 |  |\n",
      "| run012Ti64_test_data02 |  13.43026 |  |\n",
      "| run013Ti64_test_data02 | 13.098042 |  |\n",
      "| run014Ti64_test_data02 | 14.208012 |  |\n",
      "| run015Ti64_test_data02 | 14.161073 |  |\n",
      "| run016Ti64_test_data02 | 14.123237 |  |\n",
      "| run017Ti64_test_data02 | 14.175783 |  |\n",
      "| run018Ti64_test_data02 | 14.199727 |  |\n",
      "| run019Ti64_test_data02 | 19.118752 |  |\n",
      "| run020Ti64_test_data02 | 19.122911 |  |\n",
      "| run021Ti64_test_data02 | 19.221554 |  |\n",
      "| run022Ti64_test_data02 | 19.168442 |  |\n",
      "| run023Ti64_test_data02 | 19.092712 |  |\n",
      "| run024Ti64_test_data02 | 12.393582 |  |\n",
      "| run025Ti64_test_data02 | 12.363096 |  |\n",
      "| run026Ti64_test_data02 | 12.413415 |  |\n",
      "| run027Ti64_test_data02 | 12.416811 |  |\n",
      "+------------------------+-----------+--+\n",
      "+------------------------+-----------+------------+-----------+------------+-----------+------------+--------------------+--------------------+----------------+-------------+------------+-----------+------------+-----------+------------+--------------------+----------------+-------------+------------+-----------+-----------+-----------+------------+--------------------+----------------+-------------+--+\n",
      "|         Title          |   Rwp(%)  | Phase_Name |  Vol.(%)  |  error(%)  |   Wt.(%)  |  error(%)  | Cell_Par(Angstrom) | Cell_Par(Angstrom) | Size(Angstrom) | Microstrain | Phase_Name |  Vol.(%)  |  error(%)  |   Wt.(%)  |  error(%)  | Cell_Par(Angstrom) | Size(Angstrom) | Microstrain | Phase_Name |  Vol.(%)  |  error(%) |   Wt.(%)  |  error(%)  | Cell_Par(Angstrom) | Size(Angstrom) | Microstrain |  |\n",
      "+------------------------+-----------+------------+-----------+------------+-----------+------------+--------------------+--------------------+----------------+-------------+------------+-----------+------------+-----------+------------+--------------------+----------------+-------------+------------+-----------+-----------+-----------+------------+--------------------+----------------+-------------+--+\n",
      "| run000Ti64_test_data02 | 13.862096 |   alpha    |  81.14173 | 0.60859495 |  73.90693 | 0.55433106 |      2.927588      |     4.6715155      |     1000.0     |    0.001    |   steel    | 18.858265 | 0.23649593 | 26.093067 | 0.32722548 |      3.596003      |     1000.0     |    0.001    |    beta    |    0.0    |    0.0    |    0.0    |    0.0     |      3.23004       |     1000.0     |    0.001    |  |\n",
      "| run001Ti64_test_data02 | 13.958685 |   alpha    |  81.10313 | 0.6113143  |  73.85804 | 0.55670446 |     2.9275854      |      4.671512      |     1000.0     |    0.001    |   steel    |  18.89687 | 0.2377821  | 26.141962 | 0.32894817 |     3.5959845      |     1000.0     |    0.001    |    beta    |    0.0    |    0.0    |    0.0    |    0.0     |      3.23004       |     1000.0     |    0.001    |  |\n",
      "| run002Ti64_test_data02 | 14.021036 |   alpha    |  80.89098 | 0.6132259  |  73.59024 | 0.55787975 |     2.9275877      |      4.671502      |     1000.0     |    0.001    |   steel    | 19.109015 |  0.23983   |  26.40976 | 0.3314589  |     3.5959344      |     1000.0     |    0.001    |    beta    |    0.0    |    0.0    |    0.0    |    0.0     |      3.23004       |     1000.0     |    0.001    |  |\n",
      "| run003Ti64_test_data02 | 13.984479 |   alpha    | 81.031746 | 0.61230034 |  73.76788 | 0.55741245 |      2.927597      |      4.671524      |     1000.0     |    0.001    |   steel    | 18.968256 | 0.23858617 | 26.232115 | 0.3299523  |     3.5959816      |     1000.0     |    0.001    |    beta    |    0.0    |    0.0    |    0.0    |    0.0     |      3.23004       |     1000.0     |    0.001    |  |\n",
      "| run004Ti64_test_data02 | 13.245336 |   alpha    | 62.117966 | 0.5816967  |  65.14986 | 0.6100885  |     2.9511883      |     4.7158823      |     1000.0     |    0.001    |   steel    | 16.418236 | 0.23634148 | 25.632668 | 0.36898378 |     3.6513228      |     1000.0     |    0.001    |    beta    |  21.4638  | 0.9588323 |  9.217475 | 0.41176367 |     3.2712593      |     1000.0     |    0.001    |  |\n",
      "| run005Ti64_test_data02 | 13.326239 |   alpha    | 59.460896 | 0.56835157 | 63.430004 | 0.6062899  |     2.9516053      |      4.716799      |     1000.0     |    0.001    |   steel    | 16.391989 | 0.2341096  | 26.036133 | 0.3718468  |     3.6515937      |     1000.0     |    0.001    |    beta    | 24.147114 | 0.9785395 | 10.533865 | 0.42687514 |     3.2731605      |     1000.0     |    0.001    |  |\n",
      "| run006Ti64_test_data02 | 13.090711 |   alpha    |  53.64706 | 0.5201034  |  59.29206 | 0.5748312  |     2.9524248      |      4.718572      |     1000.0     |    0.001    |   steel    | 16.576887 | 0.22309095 | 27.279598 | 0.36712748 |     3.6527193      |     1000.0     |    0.001    |    beta    | 29.776054 | 0.9817082 | 13.428339 | 0.44272858 |     3.2765765      |     1000.0     |    0.001    |  |\n",
      "| run007Ti64_test_data02 | 12.905153 |   alpha    | 48.735775 | 0.4806871  |  55.95575 | 0.5518986  |     2.9530706      |      4.720048      |     1000.0     |    0.001    |   steel    |  16.15496 | 0.21079627 | 27.620304 | 0.3604006  |     3.6535168      |     1000.0     |    0.001    |    beta    | 35.109264 | 0.9824218 | 16.423946 | 0.45957223 |     3.2790203      |     1000.0     |    0.001    |  |\n",
      "| run008Ti64_test_data02 | 12.797298 |   alpha    |  43.84171 | 0.44794115 | 52.561447 | 0.5370328  |      2.953716      |      4.721427      |     1000.0     |    0.001    |   steel    | 15.462409 | 0.20040849 | 27.585001 | 0.35752955 |     3.6552737      |     1000.0     |    0.001    |    beta    |  40.69588 | 0.9948155 | 19.853554 | 0.4853224  |     3.2812047      |     1000.0     |    0.001    |  |\n",
      "| run009Ti64_test_data02 | 16.358847 |   alpha    |    0.0    |    0.0     |    0.0    |    0.0     |      2.92752       |      4.67691       |     1000.0     |    0.001    |   steel    | 6.7481236 |  0.123568  |  20.99761 | 0.3844969  |     3.6671026      |     1000.0     |    0.001    |    beta    |  93.25188 | 1.0986964 |  79.00239 | 0.9308084  |     3.2966173      |     1000.0     |    0.001    |  |\n",
      "| run010Ti64_test_data02 | 15.873763 |   alpha    |    0.0    |    0.0     |    0.0    |    0.0     |      2.92752       |      4.67691       |     1000.0     |    0.001    |   steel    |  7.337346 | 0.13021244 | 22.533335 | 0.39988852 |      3.667319      |     1000.0     |    0.001    |    beta    |  92.66266 |  1.112688 |  77.46667 | 0.9302153  |     3.2969944      |     1000.0     |    0.001    |  |\n",
      "| run011Ti64_test_data02 | 14.206492 |   alpha    |    0.0    |    0.0     |    0.0    |    0.0     |      2.92752       |      4.67691       |     1000.0     |    0.001    |   steel    | 10.330358 | 0.15802398 | 29.738417 |  0.45491   |     3.6667364      |     1000.0     |    0.001    |    beta    |  89.66964 | 1.1584522 |  70.26158 | 0.9077172  |     3.2966063      |     1000.0     |    0.001    |  |\n",
      "| run012Ti64_test_data02 |  13.43026 |   alpha    |    0.0    |    0.0     |    0.0    |    0.0     |      2.92752       |      4.67691       |     1000.0     |    0.001    |   steel    | 15.242502 | 0.21691357 |  39.7749  | 0.5660301  |     3.6664677      |     1000.0     |    0.001    |    beta    |  84.75749 | 1.3339337 |  60.2251  | 0.94783705 |      3.295918      |     1000.0     |    0.001    |  |\n",
      "| run013Ti64_test_data02 | 13.098042 |   alpha    |    0.0    |    0.0     |    0.0    |    0.0     |      2.92752       |      4.67691       |     1000.0     |    0.001    |   steel    |  20.74797 | 0.2819543  |  49.01079 | 0.6660316  |     3.6663816      |     1000.0     |    0.001    |    beta    |  79.25203 | 1.5083908 |  50.98921 | 0.9704691  |     3.2955747      |     1000.0     |    0.001    |  |\n",
      "| run014Ti64_test_data02 | 14.208012 |   alpha    |    0.0    |    0.0     |    0.0    |    0.0     |      2.92752       |      4.67691       |     1000.0     |    0.001    |   steel    | 32.826485 | 0.4787905  |  64.17823 | 0.9360713  |     3.6663187      |     1000.0     |    0.001    |    beta    | 67.173515 | 2.0734384 | 35.821766 | 1.1057069  |     3.2939155      |     1000.0     |    0.001    |  |\n",
      "| run015Ti64_test_data02 | 14.161073 |   alpha    |    0.0    |    0.0     |    0.0    |    0.0     |      2.92752       |      4.67691       |     1000.0     |    0.001    |   steel    |  33.57968 | 0.49124086 |  64.95685 | 0.95026094 |     3.6661763      |     1000.0     |    0.001    |    beta    |  66.42032 | 2.1078036 | 35.043148 | 1.1120706  |     3.2938678      |     1000.0     |    0.001    |  |\n",
      "| run016Ti64_test_data02 | 14.123237 |   alpha    |    0.0    |    0.0     |    0.0    |    0.0     |      2.92752       |      4.67691       |     1000.0     |    0.001    |   steel    |  34.11859 | 0.49994445 |  65.50337 |  0.95983   |     3.6660132      |     1000.0     |    0.001    |    beta    |  65.88141 | 2.1290586 | 34.496624 | 1.1148113  |     3.2937531      |     1000.0     |    0.001    |  |\n",
      "| run017Ti64_test_data02 | 14.175783 |   alpha    |    0.0    |    0.0     |    0.0    |    0.0     |      2.92752       |      4.67691       |     1000.0     |    0.001    |   steel    |  35.39344 | 0.5155496  |  66.75894 | 0.97242725 |      3.666188      |     1000.0     |    0.001    |    beta    |  64.60656 | 2.1601617 |  33.24106 | 1.1114361  |     3.2937322      |     1000.0     |    0.001    |  |\n",
      "| run018Ti64_test_data02 | 14.199727 |   alpha    |    0.0    |    0.0     |    0.0    |    0.0     |      2.92752       |      4.67691       |     1000.0     |    0.001    |   steel    |  36.1594  | 0.5290144  | 67.498055 | 0.98750097 |     3.6659667      |     1000.0     |    0.001    |    beta    | 63.840603 | 2.1945808 | 32.501945 |  1.117285  |     3.2937083      |     1000.0     |    0.001    |  |\n",
      "| run019Ti64_test_data02 | 19.118752 |   alpha    |  53.26369 | 0.75668526 | 59.022198 | 0.83849293 |     2.9507535      |      4.714853      |     1000.0     |    0.001    |   steel    | 16.466644 | 0.32114467 | 27.205158 | 0.5305751  |      3.648763      |     1000.0     |    0.001    |    beta    | 30.269669 | 1.4395967 | 13.772644 | 0.6550138  |     3.2676477      |     1000.0     |    0.001    |  |\n",
      "| run020Ti64_test_data02 | 19.122911 |   alpha    |  53.2465  | 0.7581469  | 58.986244 | 0.8398719  |     2.9507513      |      4.714854      |     1000.0     |    0.001    |   steel    | 16.499485 | 0.32196647 | 27.252031 | 0.53178877 |     3.6487424      |     1000.0     |    0.001    |    beta    | 30.254019 | 1.4427474 | 13.761726 | 0.6562664  |     3.2676346      |     1000.0     |    0.001    |  |\n",
      "| run021Ti64_test_data02 | 19.221554 |   alpha    |  53.31909 | 0.76301986 | 59.090187 | 0.8456068  |     2.9507513      |      4.714839      |     1000.0     |    0.001    |   steel    |  16.42649 | 0.3233069  | 27.142378 | 0.5342175  |     3.6487339      |     1000.0     |    0.001    |    beta    | 30.254417 | 1.4522204 | 13.767434 | 0.66084063 |     3.2676277      |     1000.0     |    0.001    |  |\n",
      "| run022Ti64_test_data02 | 19.168442 |   alpha    |  53.31513 | 0.7609278  |  59.06654 | 0.84301347 |     2.9507492      |      4.714847      |     1000.0     |    0.001    |   steel    |  16.45615 | 0.3226041  | 27.182222 | 0.53287655 |     3.6487477      |     1000.0     |    0.001    |    beta    | 30.228725 | 1.4473495 | 13.751239 | 0.6584085  |     3.2676296      |     1000.0     |    0.001    |  |\n",
      "| run023Ti64_test_data02 | 19.092712 |   alpha    |  53.21076 | 0.7559452  | 58.887962 | 0.8365991  |      2.950764      |      4.71485       |     1000.0     |    0.001    |   steel    | 16.602463 | 0.32198325 | 27.394402 | 0.5312789  |     3.6487703      |     1000.0     |    0.001    |    beta    | 30.186777 | 1.4373105 | 13.717634 | 0.6531502  |      3.26763       |     1000.0     |    0.001    |  |\n",
      "| run024Ti64_test_data02 | 12.393582 |   alpha    |  65.27294 | 0.4444953  |  65.31147 | 0.44475764 |     2.9274633      |     4.6766562      |     1000.0     |    0.001    |   steel    | 18.390614 | 0.18614788 |  27.90216 | 0.28242278 |      3.599421      |     1000.0     |    0.001    |    beta    | 16.336443 | 0.6095985 |  6.786371 | 0.25323516 |     3.2297127      |     1000.0     |    0.001    |  |\n",
      "| run025Ti64_test_data02 | 12.363096 |   alpha    |  65.14681 | 0.44328323 |  65.12385 | 0.44312695 |      2.92745       |      4.676625      |     1000.0     |    0.001    |   steel    | 18.542294 | 0.18644851 | 28.106642 |  0.282621  |     3.5993655      |     1000.0     |    0.001    |    beta    | 16.310888 | 0.6083315 |  6.769512 | 0.25247598 |     3.2296734      |     1000.0     |    0.001    |  |\n",
      "| run026Ti64_test_data02 | 12.413415 |   alpha    |  64.44998 | 0.44360262 | 63.952118 | 0.44017586 |     2.9274137      |     4.6766148      |     1000.0     |    0.001    |   steel    | 19.584095 | 0.19196004 |  29.47007 | 0.2888607  |     3.5992036      |     1000.0     |    0.001    |    beta    | 15.965922 | 0.6091717 |  6.577812 | 0.25097308 |     3.2295887      |     1000.0     |    0.001    |  |\n",
      "| run027Ti64_test_data02 | 12.416811 |   alpha    |  64.42647 | 0.4439219  |  63.8987  | 0.44028538 |     2.9274042      |      4.676622      |     1000.0     |    0.001    |   steel    |  19.63828 | 0.1923467  | 29.539185 | 0.2893209  |     3.5991373      |     1000.0     |    0.001    |    beta    |  15.93525 | 0.6097873 | 6.5621142 | 0.25110957 |     3.2295787      |     1000.0     |    0.001    |  |\n",
      "+------------------------+-----------+------------+-----------+------------+-----------+------------+--------------------+--------------------+----------------+-------------+------------+-----------+------------+-----------+------------+--------------------+----------------+-------------+------------+-----------+-----------+-----------+------------+--------------------+----------------+-------------+--+\n"
     ]
    },
    {
     "name": "stderr",
     "output_type": "stream",
     "text": [
      "\n"
     ]
    }
   ],
   "source": [
    "#consolodate results\n",
    "editor.ifile='After_seq1.par'; maudText.cur_step='2'\n",
    "set_dataset_wild(dataset[\"run\"], editor, maudText)\n",
    "editor.free(key='_riet_par_background_peak_height')\n",
    "editor.set_val(key='_riet_par_background_peak_hwhm',value='10.0')\n",
    "editor.set_val(key='_riet_par_background_peak_hwhm',value='0.6')\n",
    "maudText.refinement(itr='8', ifile=editor.ifile, ofile='After_seq2.par',\n",
    "                    inc_step=True, export_plots=True)"
   ]
  },
  {
   "attachments": {},
   "cell_type": "markdown",
   "metadata": {},
   "source": [
    "We can do a final refinement refining some parameter such as broadening only if the volume fractions are large enough "
   ]
  },
  {
   "cell_type": "code",
   "execution_count": 17,
   "metadata": {},
   "outputs": [
    {
     "data": {
      "application/vnd.jupyter.widget-view+json": {
       "model_id": "72fbde8eddb8428bb6373f37239fd5cd",
       "version_major": 2,
       "version_minor": 0
      },
      "text/plain": [
       "interactive(children=(IntSlider(value=0, description='wild', max=27), IntSlider(value=1, description='step', m…"
      ]
     },
     "metadata": {},
     "output_type": "display_data"
    }
   ],
   "source": [
    "from ipywidgets import interact\n",
    "import ipywidgets as widgets\n",
    "import matplotlib.pyplot as plt\n",
    "\n",
    "def plot(wild,step):\n",
    "    im = Image.open(f'run{wild:03d}/step_{step:d}/plot1d_detector1.png')\n",
    "    plt.imshow(im); plt.axis('off')\n",
    "\n",
    "wig_plot = interact(plot, wild = widgets.IntSlider(value=0, min=0, max=27, step=1), step = widgets.IntSlider(value=1, min=1, max=int(maudText.cur_step), step=1))"
   ]
  },
  {
   "cell_type": "code",
   "execution_count": 18,
   "metadata": {},
   "outputs": [
    {
     "name": "stdout",
     "output_type": "stream",
     "text": [
      "\n",
      "Starting MAUD refinement for step: 3, at: 15:11:33, July 24\n",
      "=========================\n"
     ]
    },
    {
     "name": "stderr",
     "output_type": "stream",
     "text": [
      "100%|██████████| 28/28 [00:49<00:00,  1.76s/it]"
     ]
    },
    {
     "name": "stdout",
     "output_type": "stream",
     "text": [
      "\n",
      "Archiving step data\n",
      "+------------------------+-----------+--+\n",
      "|         Title          |   Rwp(%)  |  |\n",
      "+------------------------+-----------+--+\n",
      "| run000Ti64_test_data03 |  8.126692 |  |\n",
      "| run001Ti64_test_data03 |  8.218062 |  |\n",
      "| run002Ti64_test_data03 |  8.278415 |  |\n",
      "| run003Ti64_test_data03 |  8.235716 |  |\n",
      "| run004Ti64_test_data03 | 10.007942 |  |\n",
      "| run005Ti64_test_data03 |  9.388482 |  |\n",
      "| run006Ti64_test_data03 |  9.71544  |  |\n",
      "| run007Ti64_test_data03 |  9.15673  |  |\n",
      "| run008Ti64_test_data03 |  9.063314 |  |\n",
      "| run009Ti64_test_data03 | 12.844193 |  |\n",
      "| run010Ti64_test_data03 |  12.18345 |  |\n",
      "| run011Ti64_test_data03 | 10.028626 |  |\n",
      "| run012Ti64_test_data03 |  8.568404 |  |\n",
      "| run013Ti64_test_data03 |  8.286913 |  |\n",
      "| run014Ti64_test_data03 |  8.396122 |  |\n",
      "| run015Ti64_test_data03 |  8.319979 |  |\n",
      "| run016Ti64_test_data03 |  8.331531 |  |\n",
      "| run017Ti64_test_data03 |  8.383695 |  |\n",
      "| run018Ti64_test_data03 |  8.437096 |  |\n",
      "| run019Ti64_test_data03 | 12.637972 |  |\n",
      "| run020Ti64_test_data03 | 12.576089 |  |\n",
      "| run021Ti64_test_data03 | 12.743037 |  |\n",
      "| run022Ti64_test_data03 | 12.683841 |  |\n",
      "| run023Ti64_test_data03 | 12.731508 |  |\n",
      "| run024Ti64_test_data03 | 11.423528 |  |\n",
      "| run025Ti64_test_data03 | 11.403319 |  |\n",
      "| run026Ti64_test_data03 | 11.535417 |  |\n",
      "| run027Ti64_test_data03 | 11.487744 |  |\n",
      "+------------------------+-----------+--+\n",
      "+------------------------+-----------+------------+-----------+------------+-----------+------------+--------------------+--------------------+----------------+--------------+------------+-----------+------------+-----------+------------+--------------------+----------------+--------------+------------+-----------+-----------+-----------+------------+--------------------+----------------+--------------+--+\n",
      "|         Title          |   Rwp(%)  | Phase_Name |  Vol.(%)  |  error(%)  |   Wt.(%)  |  error(%)  | Cell_Par(Angstrom) | Cell_Par(Angstrom) | Size(Angstrom) | Microstrain  | Phase_Name |  Vol.(%)  |  error(%)  |   Wt.(%)  |  error(%)  | Cell_Par(Angstrom) | Size(Angstrom) | Microstrain  | Phase_Name |  Vol.(%)  |  error(%) |   Wt.(%)  |  error(%)  | Cell_Par(Angstrom) | Size(Angstrom) | Microstrain  |  |\n",
      "+------------------------+-----------+------------+-----------+------------+-----------+------------+--------------------+--------------------+----------------+--------------+------------+-----------+------------+-----------+------------+--------------------+----------------+--------------+------------+-----------+-----------+-----------+------------+--------------------+----------------+--------------+--+\n",
      "| run000Ti64_test_data03 |  8.126692 |   alpha    |  77.31845 | 0.4153282  | 69.174805 | 0.3715833  |     2.9272397      |      4.671165      |     1000.0     | 0.0023673908 |   steel    | 22.681545 | 0.28648704 | 30.825193 | 0.38934818 |      3.595667      |     1000.0     | 0.0021300614 |    beta    |    0.0    |    0.0    |    0.0    |    0.0     |      3.23004       |     1000.0     |    0.001     |  |\n",
      "| run001Ti64_test_data03 |  8.218062 |   alpha    |  77.34667 | 0.4190439  |  69.20888 | 0.3749555  |     2.9272346      |      4.671158      |     1000.0     | 0.0023732875 |   steel    |  22.65333 | 0.28876257 | 30.791119 | 0.3924952  |     3.5956476      |     1000.0     | 0.0021242637 |    beta    |    0.0    |    0.0    |    0.0    |    0.0     |      3.23004       |     1000.0     |    0.001     |  |\n",
      "| run002Ti64_test_data03 |  8.278415 |   alpha    |  77.06472 | 0.42109162 |  68.8659  | 0.37629223 |     2.9272342      |      4.671151      |     1000.0     | 0.002378006  |   steel    | 22.935284 | 0.29143393 | 31.134102 | 0.39561462 |     3.5956168      |     1000.0     | 0.002101864  |    beta    |    0.0    |    0.0    |    0.0    |    0.0     |      3.23004       |     1000.0     |    0.001     |  |\n",
      "| run003Ti64_test_data03 |  8.235716 |   alpha    |  77.24529 | 0.4196494  | 69.085526 | 0.37531993 |     2.9272451      |      4.671171      |     1000.0     | 0.0023731606 |   steel    | 22.754705 | 0.28928837 | 30.914476 | 0.39302632 |     3.5956528      |     1000.0     | 0.002114677  |    beta    |    0.0    |    0.0    |    0.0    |    0.0     |      3.23004       |     1000.0     |    0.001     |  |\n",
      "| run004Ti64_test_data03 | 10.007942 |   alpha    |  64.79357 | 0.64301467 |  65.93842 | 0.65437627 |     2.9511027      |     4.7155666      |     1000.0     | 9.7605155E-4 |   steel    | 17.644321 | 0.4168697  |  26.74145 |  0.631801  |      3.650604      |     1000.0     | 0.0022379784 |    beta    | 17.562109 | 2.6260436 |  7.320124 | 1.0945704  |     3.2708066      |     1000.0     | 0.0013501692 |  |\n",
      "| run005Ti64_test_data03 |  9.388482 |   alpha    |  61.55485 | 0.56946325 | 62.189594 | 0.57533544 |     2.9515343      |      4.716405      |     1000.0     | 9.109286E-4  |   steel    | 20.076956 | 0.37950504 | 30.218733 | 0.57121015 |      3.650757      |     1000.0     | 0.0022395905 |    beta    | 18.368195 | 2.4703844 |  7.591675 | 1.0210233  |     3.2726238      |     1000.0     | 0.0011914303 |  |\n",
      "| run006Ti64_test_data03 |  9.71544  |   alpha    |  56.35788 | 0.6086035  |  60.13669 | 0.6494105  |      2.952363      |     4.7183075      |     1000.0     |  8.50378E-4  |   steel    | 18.073559 | 0.37522715 | 28.726074 | 0.5963852  |      3.652142      |     1000.0     | 0.002165863  |    beta    | 25.568565 | 2.7229493 | 11.137239 | 1.1860712  |     3.2760124      |     1000.0     | 0.0010673158 |  |\n",
      "| run007Ti64_test_data03 |  9.15673  |   alpha    | 50.637703 | 0.5446813  | 55.921665 | 0.6015179  |     2.9530256      |      4.719835      |     1000.0     | 7.765262E-4  |   steel    | 18.294666 | 0.33134973 |  30.0941  | 0.54505897 |      3.653074      |     1000.0     | 0.0022921767 |    beta    | 31.067629 |  2.534758 | 13.984234 | 1.1409513  |      3.278521      |     1000.0     | 8.6688105E-4 |  |\n",
      "| run008Ti64_test_data03 |  9.063314 |   alpha    |  44.87679 | 0.51242554 | 53.116844 | 0.6065146  |     2.9536622      |      4.721372      |     1000.0     | 7.201272E-4  |   steel    |  15.87045 | 0.31134334 | 27.971666 | 0.5487426  |     3.6543663      |     1000.0     | 0.0025183817 |    beta    | 39.252758 |  2.459153 |  18.91149 | 1.1847893  |     3.2808068      |     1000.0     |  6.97134E-4  |  |\n",
      "| run009Ti64_test_data03 | 12.844193 |   alpha    |    0.0    |    0.0     |    0.0    |    0.0     |      2.92752       |      4.67691       |     1000.0     |    0.001     |   steel    |  5.941573 | 0.19299933 | 18.846237 | 0.6121798  |     3.6660318      |     1000.0     | 0.0028416717 |    beta    | 94.058426 | 1.2300453 |  81.15376 | 1.0612851  |      3.296687      |     1000.0     | 2.6039546E-4 |  |\n",
      "| run010Ti64_test_data03 |  12.18345 |   alpha    |    0.0    |    0.0     |    0.0    |    0.0     |      2.92752       |      4.67691       |     1000.0     |    0.001     |   steel    | 6.5488296 | 0.19343913 |  20.48744 | 0.6051574  |      3.666288      |     1000.0     | 0.0025236306 |    beta    |  93.45117 | 1.2205919 |  79.51256 | 1.0385358  |     3.2970712      |     1000.0     | 1.0179788E-6 |  |\n",
      "| run011Ti64_test_data03 | 10.028626 |   alpha    |    0.0    |    0.0     |    0.0    |    0.0     |      2.92752       |      4.67691       |     1000.0     |    0.001     |   steel    |  8.916618 | 0.2126516  |  26.46611 | 0.6311878  |     3.6660218      |     1000.0     | 0.0025052102 |    beta    |  91.08338 | 1.2307771 |  73.53389 | 0.99363714 |     3.2967522      |     1000.0     | 6.014966E-6  |  |\n",
      "| run012Ti64_test_data03 |  8.568404 |   alpha    |    0.0    |    0.0     |    0.0    |    0.0     |      2.92752       |      4.67691       |     1000.0     |    0.001     |   steel    |  12.22835 | 0.2475017  |  33.86136 | 0.6853536  |     3.6657896      |     1000.0     | 0.0024765418 |    beta    |  87.77165 |  1.336079 |  66.13864 | 1.0067767  |      3.296022      |     1000.0     | 3.2897203E-4 |  |\n",
      "| run013Ti64_test_data03 |  8.286913 |   alpha    |    0.0    |    0.0     |    0.0    |    0.0     |      2.92752       |      4.67691       |     1000.0     |    0.001     |   steel    | 16.896637 |  0.380607  | 42.757298 | 0.9631341  |     3.6657717      |     1000.0     | 0.0024343824 |    beta    |  83.10336 | 1.9412957 | 57.242702 | 1.3371903  |     3.2956846      |     1000.0     | 7.723613E-4  |  |\n",
      "| run014Ti64_test_data03 |  8.396122 |   alpha    |    0.0    |    0.0     |    0.0    |    0.0     |      2.92752       |      4.67691       |     1000.0     |    0.001     |   steel    | 17.366692 | 0.34115645 |  43.56247 | 0.8557541  |     3.6656137      |     1000.0     | 0.0024548997 |    beta    |  82.63331 |  1.848761 |  56.43753 |  1.262681  |      3.295224      |     1000.0     | 0.0013967523 |  |\n",
      "| run015Ti64_test_data03 |  8.319979 |   alpha    |    0.0    |    0.0     |    0.0    |    0.0     |      2.92752       |      4.67691       |     1000.0     |    0.001     |   steel    | 17.288454 | 0.33792245 | 43.430107 | 0.8488907  |     3.6655467      |     1000.0     | 0.0024467069 |    beta    |  82.71155 | 1.8600317 | 56.569893 | 1.2721536  |     3.2952473      |     1000.0     | 0.0016580793 |  |\n",
      "| run016Ti64_test_data03 |  8.331531 |   alpha    |    0.0    |    0.0     |    0.0    |    0.0     |      2.92752       |      4.67691       |     1000.0     |    0.001     |   steel    | 17.429508 | 0.34262893 | 43.675648 | 0.85857505 |     3.6653752      |     1000.0     | 0.0024404547 |    beta    | 82.570496 | 1.8882446 | 56.324352 | 1.2880406  |     3.2952635      |     1000.0     | 0.0017572279 |  |\n",
      "| run017Ti64_test_data03 |  8.383695 |   alpha    |    0.0    |    0.0     |    0.0    |    0.0     |      2.92752       |      4.67691       |     1000.0     |    0.001     |   steel    |  17.81675 | 0.34945443 |  44.33344 | 0.8695479  |     3.6654532      |     1000.0     | 0.0024948027 |    beta    |  82.18325 | 1.9243687 |  55.66656 | 1.3034649  |     3.2953563      |     1000.0     | 0.001840393  |  |\n",
      "| run018Ti64_test_data03 |  8.437096 |   alpha    |    0.0    |    0.0     |    0.0    |    0.0     |      2.92752       |      4.67691       |     1000.0     |    0.001     |   steel    | 17.866964 | 0.35388038 | 44.424557 | 0.8798908  |     3.6652853      |     1000.0     | 0.0024612292 |    beta    |  82.13303 |  1.930096 | 55.575443 | 1.3060024  |     3.2954972      |     1000.0     | 0.0019772416 |  |\n",
      "| run019Ti64_test_data03 | 12.637972 |   alpha    |  53.37021 | 0.66466993 | 58.838024 | 0.7327658  |     2.9508727      |      4.714647      |     1000.0     | 4.2958328E-4 |   steel    | 16.808275 | 0.46082824 |  27.66059 | 0.75836337 |     3.6473603      |     1000.0     | 0.0025472948 |    beta    | 29.821514 | 2.4728308 | 13.501387 | 1.1195489  |     3.2675276      |     1000.0     | 6.967714E-4  |  |\n",
      "| run020Ti64_test_data03 | 12.576089 |   alpha    | 53.289455 | 0.66100615 | 58.662315 | 0.7276515  |      2.950867      |      4.714603      |     1000.0     | 4.717197E-5  |   steel    | 16.972149 | 0.46241823 | 27.893475 | 0.7599776  |     3.6471517      |     1000.0     | 0.0026488432 |    beta    | 29.738396 |  2.485643 | 13.444209 | 1.1237158  |     3.2674875      |     1000.0     | 1.2775158E-4 |  |\n",
      "| run021Ti64_test_data03 | 12.743037 |   alpha    |  53.29509 |  0.668476  |  58.60366 |  0.735061  |     2.9508655      |      4.714744      |     1000.0     | 3.095289E-4  |   steel    | 17.069206 | 0.4777393  | 28.013823 | 0.7840613  |     3.6475406      |     1000.0     | 0.0028013452 |    beta    | 29.635708 | 2.4914403 | 13.382518 | 1.1250532  |      3.267556      |     1000.0     | 5.817699E-5  |  |\n",
      "| run022Ti64_test_data03 | 12.683841 |   alpha    |  53.29194 | 0.6577138  |  58.56748 | 0.72282296 |     2.9508593      |     4.7147274      |     1000.0     | 2.199304E-5  |   steel    |  17.11701 | 0.4733174  | 28.077614 | 0.77639866 |      3.647487      |     1000.0     | 0.002786698  |    beta    | 29.591047 | 2.4753473 | 13.354908 | 1.1171633  |     3.2675462      |     1000.0     | 3.2449595E-4 |  |\n",
      "| run023Ti64_test_data03 | 12.731508 |   alpha    |  53.44975 | 0.6711848  |  58.92759 | 0.7399717  |     2.9508839      |     4.7147284      |     1000.0     | 3.091369E-4  |   steel    |  16.76844 | 0.46396554 | 27.588526 | 0.7633462  |      3.647716      |     1000.0     | 0.0023446828 |    beta    | 29.781807 |  2.495445 | 13.483888 | 1.1298274  |     3.2675507      |     1000.0     | 1.6324427E-4 |  |\n",
      "| run024Ti64_test_data03 | 11.423528 |   alpha    |  62.81526 | 0.4860296  |  63.54272 | 0.49165827 |      2.927578      |     4.6768675      |     1000.0     | 7.2787075E-6 |   steel    |  18.70076 | 0.32989147 |  28.69204 | 0.50614303 |     3.5992484      |     1000.0     | 0.0014619153 |    beta    | 18.483976 | 1.5191185 |  7.765241 | 0.6381918  |      3.229511      |     1000.0     | 0.0033454313 |  |\n",
      "| run025Ti64_test_data03 | 11.403319 |   alpha    | 62.432384 | 0.48246285 | 63.008713 | 0.48691657 |      2.927561      |     4.6768055      |     1000.0     | 2.8323113E-5 |   steel    | 19.109009 | 0.33409956 | 29.254827 | 0.51148784 |     3.5990329      |     1000.0     | 0.0018873159 |    beta    |  18.45861 | 1.4997907 |  7.73646  | 0.6285994  |     3.2294998      |     1000.0     | 0.0032407902 |  |\n",
      "| run026Ti64_test_data03 | 11.535417 |   alpha    | 61.889183 | 0.48368666 | 61.924206 | 0.48396036 |      2.927557      |      4.676795      |     1000.0     | 1.0383092E-6 |   steel    | 20.172506 | 0.34576505 | 30.622057 | 0.5248746  |      3.598861      |     1000.0     | 0.0020655973 |    beta    | 17.938309 | 1.4858077 |  7.453738 | 0.61738384 |     3.2295084      |     1000.0     | 0.0030578806 |  |\n",
      "| run027Ti64_test_data03 | 11.487744 |   alpha    |  61.0937  | 0.47877613 |  61.38294 | 0.4810428  |      2.927559      |      4.676817      |     1000.0     | 6.378455E-6  |   steel    | 20.215918 |  0.348989  | 30.818127 | 0.5320158  |     3.5987778      |     1000.0     | 0.002184409  |    beta    | 18.690384 | 1.5474209 |  7.798936 | 0.6456923  |      3.229468      |     1000.0     | 0.003182791  |  |\n",
      "+------------------------+-----------+------------+-----------+------------+-----------+------------+--------------------+--------------------+----------------+--------------+------------+-----------+------------+-----------+------------+--------------------+----------------+--------------+------------+-----------+-----------+-----------+------------+--------------------+----------------+--------------+--+\n"
     ]
    },
    {
     "name": "stderr",
     "output_type": "stream",
     "text": [
      "\n"
     ]
    }
   ],
   "source": [
    "editor.ifile='After_seq2.par'; maudText.cur_step='3'\n",
    "for wild in editor.wild:\n",
    "    editor.get_val(key='_pd_phase_atom_', wild=[wild])\n",
    "    for vol,pname in zip(editor.value,p.keys()):\n",
    "        if float(vol) > 0.01:\n",
    "            editor.free(key='_rita_harmonic_parameter', sobj=pname)\n",
    "            editor.free(key='MicroStrain', sobj=pname)\n",
    "            # editor.free(key='CrystSize', sobj=pname)\n",
    "\n",
    "editor.free(key='_riet_par_background_peak_hwhm')\n",
    "maudText.refinement(itr='8', export_plots=True,\n",
    "                    ifile=editor.ifile, ofile='After_seq3.par')"
   ]
  },
  {
   "attachments": {},
   "cell_type": "markdown",
   "metadata": {},
   "source": [
    "# Plotting results\n",
    "Plotting results for publication is also an important step in the Rietveld analysis. Most plots endup have certain features e.g. symbols with error bars and often yy-axis. Since the data.csv is in a tidy data format, it may be helpful to see some filtering and plotting of the data.\n",
    "\n",
    "First we need to define the error propagation functions for strains and temp calculations and define the temperature function for SS316."
   ]
  },
  {
   "cell_type": "code",
   "execution_count": 19,
   "metadata": {},
   "outputs": [],
   "source": [
    "import numpy as np\n",
    "def error_divmult(Q: float, par: list[float], pare: list[float]) -> float:\n",
    "    \"\"\"Propagates the error for addition.\"\"\"\n",
    "    # see https://www.statisticshowto.com/error-propagation/\n",
    "    sum_div = 0\n",
    "    for p, pe in zip(par, pare):\n",
    "        if p != 0:\n",
    "            sum_div += (pe/p)**2\n",
    "    return abs(Q)*np.sqrt(sum_div)\n",
    "\n",
    "\n",
    "def error_sine(theta, thetae) -> float:\n",
    "    \"\"\"Propagates the error for sine.\"\"\"\n",
    "    # see https://math.stackexchange.com/questions/2653896/error-propagation-for-sine-function-in-terms-of-degrees-and-radians\n",
    "    return np.cos(theta)*thetae\n",
    "\n",
    "\n",
    "def error_cos(theta, thetae) -> float:\n",
    "    \"\"\"Propagates the error for cos.\"\"\"\n",
    "    # see https: // math.stackexchange.com/questions/2653896/error-propagation-for-sine-function-in-terms-of-degrees-and-radians\n",
    "    return np.sin(theta)*thetae\n",
    "\n",
    "\n",
    "def error_add(pare: list[float]) -> float:\n",
    "    \"\"\"Propagates the error for addition.\"\"\"\n",
    "    # see https: // www.statisticshowto.com/error-propagation /\n",
    "    sum_sq = 0\n",
    "    for pe in pare:\n",
    "        sum_sq += (pe)**2\n",
    "    return np.sqrt(sum_sq)\n",
    "\n",
    "\n",
    "def error_powers(Q, x, xe, n) -> float:\n",
    "    \"\"\"Propagates the error for powers with exact numbers.\"\"\"\n",
    "    # see https: // math.stackexchange.com/questions/2653896/error-propagation-for-sine-function-in-terms-of-degrees-and-radians\n",
    "    if x == 0.0:\n",
    "        return 0.0\n",
    "    return abs(Q)*abs(n)*xe/abs(x)\n",
    "    \n",
    "\n",
    "def error_roots(Q, x, xe, n) -> float:\n",
    "    \"\"\"Propagates the error for roots.\"\"\"\n",
    "    # see https: // math.stackexchange.com/questions/2653896/error-propagation-for-sine-function-in-terms-of-degrees-and-radians\n",
    "    \n",
    "    return abs(Q)*xe/(abs(x)*abs(n))\n",
    " \n",
    "   \n",
    "def error_exact(A, xe):\n",
    "    \"\"\"Propagates the error for exact Measurement.\"\"\"\n",
    "    # see https: // math.stackexchange.com/questions/2653896/error-propagation-for-sine-function-in-terms-of-degrees-and-radians\n",
    "    return abs(A)*xe\n",
    "\n",
    "\n",
    "def SS316_temp_cal(strainv: list[float], strainv_err: list[float], T_ref: float) -> list[float]:\n",
    "    \"\"\"Convert strain to temp for SS316\"\"\"\n",
    "    temp = np.full((len(strainv),1),np.nan)\n",
    "    temp_err = np.full((len(strainv),1),np.nan)\n",
    "    for i, (strain,strain_err) in enumerate(zip(strainv,strainv_err)):\n",
    "        temp[i] = T_ref + 63032*strain/1e6 - 1003300*(strain/1e6)**2 + 20171000*(strain/1e6)**3\n",
    "        temp_err1 = 63032*strain_err/1e6   \n",
    "        temp_err2 = 1003300*error_powers((strain/1e6)**2, strain/1e6, strain_err/1e6, 2)\n",
    "        temp_err3 = 20171000*error_powers((strain/1e6)**3, strain/1e6, strain_err/1e6, 3)\n",
    "        temp_err[i] = error_add([temp_err1, temp_err2, temp_err3])\n",
    "    \n",
    "    return temp, temp_err\n",
    "\n",
    "\n",
    "def calc_phase_fraction(av: list[float], av_e: list[float], bv: list[float],bv_e: list[float]):\n",
    "    pf = np.full((len(av),1),np.nan)\n",
    "    pf_e = np.full((len(av),1),np.nan)\n",
    "    for i, (a,a_e,b,b_e) in enumerate(zip(av,av_e,bv,bv_e)):\n",
    "        pf[i] = a/(a+b)\n",
    "        tmp = error_add([a_e, b_e])\n",
    "        pf_e[i] = error_divmult(pf[i],[a, a+b],[a_e, tmp])\n",
    "    return pf, pf_e\n",
    "\n",
    "\n",
    "def strain_cal(parv: list[float], par_ref: float, parv_esd: list[float], par_ref_esd: float, scale: float = 1e6) -> list[float]:\n",
    "    \"\"\"Converts lattice parameter to strain (microstrain default).\"\"\"\n",
    "    strain = np.full((len(parv),1),np.nan)\n",
    "    strain_err = np.full((len(parv),1),np.nan)\n",
    "    for i, (par,par_esd) in enumerate(zip(parv,parv_esd)):\n",
    "        strain[i] = (par / par_ref - 1)*scale\n",
    "        strain_err[i] = scale*error_divmult(par/par_ref, [par, par_ref], [par_esd, par_ref_esd])\n",
    "    return strain, strain_err"
   ]
  },
  {
   "attachments": {},
   "cell_type": "markdown",
   "metadata": {},
   "source": [
    "Now we have what we need for a phase fraction vs run id and temperature vs run id plot."
   ]
  },
  {
   "cell_type": "code",
   "execution_count": 20,
   "metadata": {},
   "outputs": [
    {
     "data": {
      "image/png": "[encoded data removed]",
      "text/plain": [
       "<Figure size 640x480 with 2 Axes>"
      ]
     },
     "metadata": {},
     "output_type": "display_data"
    }
   ],
   "source": [
    "import build_cinema_database\n",
    "import pandas as pd\n",
    "import matplotlib.pyplot as plt\n",
    "\n",
    "build_cinema_database.main()\n",
    "df = pd.read_csv('data.csv')\n",
    "df.head()\n",
    "\n",
    "#Compute alpha phase fraction\n",
    "df_alpha=df[(df.step==3) & (df.phase_name=='alpha')].reset_index()\n",
    "df_beta=df[(df.step==3) & (df.phase_name=='beta')].reset_index()\n",
    "df_steel=df[(df.step==3) & (df.phase_name=='steel')].reset_index()\n",
    "\n",
    "df_alpha[\"phase_fraction_corr\"],df_alpha[\"phase_fraction_corr_e\"] = calc_phase_fraction(df_alpha.phase_fraction,df_alpha.phase_fraction_e,df_beta.phase_fraction,df_beta.phase_fraction_e)\n",
    "df_steel['lattice_a_strain'],df_steel['lattice_a_strain_e'] = strain_cal(df_steel['lattice_a'], df_steel['lattice_a'][0], df_steel['lattice_a_e'], df_steel['lattice_a_e'][0])\n",
    "df_steel[\"temperature\"],df_steel[\"temperature_e\"] = SS316_temp_cal(df_steel['lattice_a_strain'], df_steel['lattice_a_strain_e'], T_ref=25)\n",
    "\n",
    "plt.figure()\n",
    "ax1=plt.gca()\n",
    "ax1.errorbar(df_alpha.index,df_alpha[\"phase_fraction_corr\"],df_alpha[\"phase_fraction_corr_e\"]*2.0)\n",
    "ax1.set_xlabel(\"Run ID\")\n",
    "ax1.set_ylabel(\"Phase Fraction, Alpha\")\n",
    "\n",
    "\n",
    "ax2 = ax1.twinx()\n",
    "ax2.errorbar(df_steel.index,df_steel[\"temperature\"],df_steel[\"temperature_e\"]*2.0,color='k')\n",
    "ax2.set_ylabel(\"Temperature, K\")\n",
    "ax2.set_title(\"Alpha phase fraction over heating cycle\")\n",
    "plt.show()"
   ]
  },
  {
   "attachments": {},
   "cell_type": "markdown",
   "metadata": {},
   "source": [
    "We might want to look at recovery of dislocations on heating alpha to the beta transis."
   ]
  },
  {
   "cell_type": "code",
   "execution_count": 21,
   "metadata": {},
   "outputs": [
    {
     "data": {
      "image/png": "[encoded data removed]",
      "text/plain": [
       "<Figure size 640x480 with 2 Axes>"
      ]
     },
     "metadata": {},
     "output_type": "display_data"
    }
   ],
   "source": [
    "df_alpha_heating = df_alpha[df_alpha.index<9].reindex()\n",
    "df_steel_heating = df_steel[df_steel.index<11].reindex()\n",
    "plt.figure()\n",
    "ax1=plt.gca()\n",
    "ax1.errorbar(df_alpha_heating.index,df_alpha_heating[\"microstrain\"],df_alpha_heating[\"microstrain_e\"]*2.0)\n",
    "ax1.set_xlabel(\"Run ID\")\n",
    "ax1.set_ylabel(\"Microstrain (Broadening)\")\n",
    "\n",
    "\n",
    "ax2 = ax1.twinx()\n",
    "ax2.errorbar(df_steel_heating.index,df_steel_heating[\"temperature\"],df_steel_heating[\"temperature_e\"]*2.0,color='k')\n",
    "ax2.set_ylabel(\"Temperature, K\")\n",
    "ax2.set_title(\"Peak broadening evolution while heating\")\n",
    "plt.show()"
   ]
  }
 ],
 "metadata": {
  "kernelspec": {
   "display_name": "rietveld",
   "language": "python",
   "name": "python3"
  },
  "language_info": {
   "codemirror_mode": {
    "name": "ipython",
    "version": 3
   },
   "file_extension": ".py",
   "mimetype": "text/x-python",
   "name": "python",
   "nbconvert_exporter": "python",
   "pygments_lexer": "ipython3",
   "version": "3.9.15"
  },
  "orig_nbformat": 4
 },
 "nbformat": 4,
 "nbformat_minor": 2
}
